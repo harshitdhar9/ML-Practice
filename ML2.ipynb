{
 "cells": [
  {
   "cell_type": "code",
   "execution_count": 2,
   "metadata": {},
   "outputs": [
    {
     "name": "stdout",
     "output_type": "stream",
     "text": [
      "Sample Space: ['I', 'I', 'studying', 'am', 'I', 'I', 'studying', 'am', 'in', 'BU', 'in', 'studying', 'in', 'I', 'BU', 'in', 'in', 'studying', 'am', 'I', 'BU', 'am', 'studying', 'BU', 'in', 'studying', 'BU', 'BU', 'BU', 'studying', 'in', 'in', 'I', 'BU', 'I', 'am', 'am', 'BU', 'in', 'in', 'studying', 'am', 'studying', 'in', 'BU', 'in', 'studying', 'I', 'in', 'I', 'studying', 'in', 'am', 'studying', 'am', 'in', 'BU', 'BU', 'BU', 'am', 'BU', 'am', 'I', 'studying', 'in', 'I', 'studying', 'am', 'in', 'I', 'am', 'I', 'am', 'BU', 'studying', 'in', 'studying', 'in', 'I', 'in', 'am', 'BU', 'BU', 'I', 'I', 'studying', 'in', 'in', 'I', 'I', 'am', 'am', 'am', 'am', 'am', 'I', 'I', 'I', 'am', 'I', 'I', 'in', 'in', 'in', 'I', 'BU', 'studying', 'BU', 'studying', 'in', 'I', 'studying', 'studying', 'am', 'am', 'in', 'am', 'BU', 'studying', 'in', 'in', 'studying', 'am', 'I', 'in', 'studying', 'am', 'in', 'BU', 'in', 'am', 'studying', 'BU', 'BU', 'BU', 'BU', 'studying', 'studying', 'I', 'in', 'in', 'in', 'am', 'in', 'studying', 'BU', 'am', 'I', 'BU', 'studying', 'am', 'I', 'in', 'studying', 'I', 'in', 'BU', 'am', 'am', 'in', 'studying', 'I', 'studying', 'I', 'in', 'BU', 'am', 'studying', 'BU', 'studying', 'BU', 'I', 'studying', 'am', 'studying', 'studying', 'I', 'studying', 'BU', 'studying', 'BU', 'I', 'studying', 'am', 'in', 'in', 'studying', 'studying', 'studying', 'am', 'in', 'in', 'I', 'I', 'studying', 'BU', 'studying', 'am', 'BU', 'in', 'I', 'BU', 'I', 'BU', 'in', 'I', 'I', 'BU', 'in', 'I', 'I', 'in', 'BU', 'in', 'BU', 'I', 'BU', 'studying', 'studying', 'I', 'in', 'in', 'BU', 'am', 'studying', 'I', 'in', 'BU', 'BU', 'studying', 'in', 'BU', 'I', 'I', 'studying', 'BU', 'studying', 'studying', 'in', 'in', 'studying', 'am', 'BU', 'I', 'I', 'am', 'BU', 'BU', 'am', 'I', 'studying', 'BU', 'I', 'in', 'I', 'am', 'I', 'studying', 'studying', 'in', 'am', 'I', 'studying', 'I', 'studying', 'studying', 'studying', 'am', 'BU', 'studying', 'BU', 'BU', 'in', 'studying', 'in', 'studying', 'in', 'BU', 'am', 'studying', 'am', 'studying', 'am', 'am', 'BU', 'am', 'studying', 'in', 'studying']\n",
      "Word Probabilities: {'I': 0.2, 'studying': 0.23, 'am': 0.17, 'in': 0.21, 'BU': 0.19}\n"
     ]
    }
   ],
   "source": [
    "import random\n",
    "from collections import Counter\n",
    "\n",
    "words_list = [\"I\", \"am\", \"studying\", \"in\", \"BU\"]\n",
    "random_samples = random.choices(words_list, k=1500)\n",
    "sample_space = []\n",
    "\n",
    "for i in range(len(random_samples) - 1):\n",
    "    if random_samples[i] == \"BU\":\n",
    "        sample_space.append(random_samples[i + 1])\n",
    "        \n",
    "word_count = Counter(sample_space)\n",
    "total_words = len(sample_space)\n",
    "probability_dict = {word: round(count / total_words,2) for word, count in word_count.items()}\n",
    "\n",
    "print(\"Sample Space:\", sample_space)\n",
    "print(\"Word Probabilities:\", probability_dict)\n"
   ]
  },
  {
   "cell_type": "code",
   "execution_count": 3,
   "metadata": {},
   "outputs": [
    {
     "name": "stdout",
     "output_type": "stream",
     "text": [
      "P(X = 0) = 0.062\n",
      "P(X = 1) = 0.25\n",
      "P(X = 2) = 0.375\n",
      "P(X = 3) = 0.25\n",
      "P(X = 4) = 0.062\n"
     ]
    }
   ],
   "source": [
    "def factorial(x):\n",
    "    if x == 0 or x == 1:\n",
    "        return 1\n",
    "    result = 1\n",
    "    for i in range(2, x + 1):\n",
    "        result *= i\n",
    "    return result\n",
    "\n",
    "def binomial_coefficient(n, k):\n",
    "    return factorial(n) // (factorial(k) * factorial(n - k))\n",
    "n = 4\n",
    "p = 0.5\n",
    "\n",
    "for k in range(n + 1):\n",
    "    binom_coeff = binomial_coefficient(n, k)\n",
    "    probability = binom_coeff * (p ** k) * ((1 - p) ** (n - k))\n",
    "    probability = round(probability, 3)\n",
    "    print(f\"P(X = {k}) = {probability}\")\n"
   ]
  }
 ],
 "metadata": {
  "kernelspec": {
   "display_name": "Python 3",
   "language": "python",
   "name": "python3"
  },
  "language_info": {
   "codemirror_mode": {
    "name": "ipython",
    "version": 3
   },
   "file_extension": ".py",
   "mimetype": "text/x-python",
   "name": "python",
   "nbconvert_exporter": "python",
   "pygments_lexer": "ipython3",
   "version": "3.12.2"
  }
 },
 "nbformat": 4,
 "nbformat_minor": 2
}
