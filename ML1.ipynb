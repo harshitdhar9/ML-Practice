{
 "cells": [
  {
   "cell_type": "code",
   "execution_count": null,
   "metadata": {},
   "outputs": [],
   "source": [
    "import random\n",
    "\n",
    "random.seed(2)\n",
    "numbers=[random.randint(90,100) for i in range(1500)]\n",
    "print(\"Seed 2\")\n",
    "print({i:numbers.count(i) for i in numbers})\n",
    "\n",
    "random.seed(4)\n",
    "numbers=[random.randint(90,100) for i in range(1500)]\n",
    "print(\"Seed 4\") \n",
    "print({i:numbers.count(i) for i in numbers})\n",
    "\n",
    "random.seed(6)\n",
    "numbers=[random.randint(90,100) for i in range(1500)]\n",
    "print(\"Seed 6\")\n",
    "print({i:numbers.count(i) for i in numbers})"
   ]
  },
  {
   "cell_type": "code",
   "execution_count": null,
   "metadata": {},
   "outputs": [],
   "source": [
    "def count(ele, lst):\n",
    "    count = 0\n",
    "    for i in lst:\n",
    "        if i == ele:\n",
    "            count += 1\n",
    "    return count\n",
    "\n",
    "a = int(input(\"Enter length: \"))\n",
    "\n",
    "lst = []\n",
    "for i in range(a):\n",
    "    num = int(input(\"Enter numbers for initial list: \"))\n",
    "    lst.append(num)\n",
    "\n",
    "print(\"Enter elements to find probability\")\n",
    "\n",
    "list1 = []\n",
    "b=int(input(\"Enter length: \"))\n",
    "for i in range(b):\n",
    "    num = int(input(\"Enter number: \"))\n",
    "    list1.append(num)\n",
    "\n",
    "list2 = []  \n",
    "for i in list1:\n",
    "    if i in lst:\n",
    "        str_val = f\"{count(i, lst)}/{a}\"\n",
    "        list2.append(str_val)\n",
    "\n",
    "print(set(list2))\n"
   ]
  },
  {
   "cell_type": "code",
   "execution_count": null,
   "metadata": {},
   "outputs": [],
   "source": [
    "import random\n",
    "from collections import Counter\n",
    "\n",
    "words = [\"I\",\"am\",\"writing\",\"a\",\"program\"]\n",
    "\n",
    "def count(words, seed, sample_size=1500):\n",
    "    random.seed(seed)\n",
    "    sampled_words = random.choices(words, k=sample_size)\n",
    "    word_frequency = dict(Counter(sampled_words))\n",
    "    return word_frequency\n",
    "\n",
    "frequency1 = count(words, 30)\n",
    "print(\"Frequency with seed 30:\", frequency1)\n",
    "\n",
    "frequency2 = count(words, 40)\n",
    "print(\"Frequency with seed 40:\", frequency2)\n"
   ]
  }
 ],
 "metadata": {
  "language_info": {
   "name": "python"
  }
 },
 "nbformat": 4,
 "nbformat_minor": 2
}
